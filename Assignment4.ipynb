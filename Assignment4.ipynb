{
 "cells": [
  {
   "cell_type": "markdown",
   "metadata": {},
   "source": [
    "# Assignment4"
   ]
  },
  {
   "cell_type": "markdown",
   "metadata": {},
   "source": [
    "1.1 Write a Python Program(with class concepts) to find the area of the triangle using the below\n",
    "formula.\n",
    "area = (s*(s-a)*(s-b)*(s-c)) ** 0.5\n",
    "Function to take the length of the sides of triangle from user should be defined in the parent\n",
    "class and function to calculate the area should be defined in subclass."
   ]
  },
  {
   "cell_type": "code",
   "execution_count": 9,
   "metadata": {},
   "outputs": [
    {
     "name": "stdout",
     "output_type": "stream",
     "text": [
      "a:4\n",
      "b:5\n",
      "c:6\n",
      "Area of Triangle is: 9.921567416492215\n"
     ]
    }
   ],
   "source": [
    "class parent:\n",
    "  def __init__(self):\n",
    "    self.a = int(input(\"a:\"))\n",
    "    self.b = int(input(\"b:\"))\n",
    "    self.c = int(input(\"c:\"))\n",
    "\n",
    "class child(parent):\n",
    "  def __init__(self):\n",
    "    super(child,self).__init__()\n",
    "    a = (self.a)\n",
    "    b = (self.b)\n",
    "    c = (self.c)\n",
    "    \n",
    "  def get_value(self):\n",
    "    s = (self.a+self.b+self.c)/2\n",
    "  \n",
    "    area = (s*(s-self.a)*(s-self.b)*(s-self.c)) ** 0.5\n",
    "\n",
    "    print(\"Area of Triangle is:\",area)\n",
    "\n",
    "c = child()\n",
    "c.get_value()"
   ]
  },
  {
   "cell_type": "markdown",
   "metadata": {},
   "source": [
    "1.2 Write a function filter_long_words() that takes a list of words and an integer n and returns\n",
    "the list of words that are longer than n.\n"
   ]
  },
  {
   "cell_type": "code",
   "execution_count": 4,
   "metadata": {},
   "outputs": [
    {
     "name": "stdout",
     "output_type": "stream",
     "text": [
      "['ABCDE', 'ABCDEF']\n"
     ]
    }
   ],
   "source": [
    "def filter_long_words(words, n):\n",
    "  list_of_words = []\n",
    "\n",
    "  for i in words:\n",
    "    if len(i)> n:\n",
    "      \n",
    "      list_of_words.append(i)\n",
    "  print(list_of_words)\n",
    "filter_long_words(['Abc', 'ABCD', 'ABCDE', 'ABCDEF'], 4)"
   ]
  },
  {
   "cell_type": "markdown",
   "metadata": {},
   "source": [
    "2.1 Write a Python program using function concept that maps list of words into a list of integers\n",
    "representing the lengths of the corresponding words."
   ]
  },
  {
   "cell_type": "code",
   "execution_count": 5,
   "metadata": {},
   "outputs": [
    {
     "name": "stdout",
     "output_type": "stream",
     "text": [
      "[1, 2, 3, 3, 4]\n"
     ]
    }
   ],
   "source": [
    "def function1(words):\n",
    "  result_list = []\n",
    "  for i in words:\n",
    "    \n",
    "    n = len(i)\n",
    "    result_list.append(n)\n",
    "  print(result_list)\n",
    "\n",
    "function1(['A', 'AB', 'ABC', 'ABC', 'ABCD'])"
   ]
  },
  {
   "cell_type": "markdown",
   "metadata": {},
   "source": [
    "2.2 Write a Python function which takes a character (i.e. a string of length 1) and returns True if\n",
    "it is a vowel, False otherwise."
   ]
  },
  {
   "cell_type": "code",
   "execution_count": 7,
   "metadata": {},
   "outputs": [
    {
     "name": "stdout",
     "output_type": "stream",
     "text": [
      "Enter Character: a\n"
     ]
    },
    {
     "data": {
      "text/plain": [
       "True"
      ]
     },
     "execution_count": 7,
     "metadata": {},
     "output_type": "execute_result"
    }
   ],
   "source": [
    "def check_vowel():\n",
    "  char = input(\"Enter Character: \")\n",
    "\n",
    "  if char in ['A', 'E', 'I', 'O', 'U','a', 'e', 'i', 'o', 'u']:\n",
    "    return True\n",
    "  else:\n",
    "    return False\n",
    "\n",
    "check_vowel()"
   ]
  },
  {
   "cell_type": "code",
   "execution_count": null,
   "metadata": {},
   "outputs": [],
   "source": []
  }
 ],
 "metadata": {
  "kernelspec": {
   "display_name": "Python 3",
   "language": "python",
   "name": "python3"
  },
  "language_info": {
   "codemirror_mode": {
    "name": "ipython",
    "version": 3
   },
   "file_extension": ".py",
   "mimetype": "text/x-python",
   "name": "python",
   "nbconvert_exporter": "python",
   "pygments_lexer": "ipython3",
   "version": "3.6.8"
  },
  "toc": {
   "base_numbering": 1,
   "nav_menu": {},
   "number_sections": true,
   "sideBar": true,
   "skip_h1_title": false,
   "title_cell": "Table of Contents",
   "title_sidebar": "Contents",
   "toc_cell": false,
   "toc_position": {},
   "toc_section_display": true,
   "toc_window_display": false
  }
 },
 "nbformat": 4,
 "nbformat_minor": 2
}
